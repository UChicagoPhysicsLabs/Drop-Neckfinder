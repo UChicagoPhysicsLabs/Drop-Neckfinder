{
 "cells": [
  {
   "cell_type": "markdown",
   "metadata": {},
   "source": [
    "If you're working off of your local machine and the following doesn't say the active environment is `DropPinchoff` something may have gone wrong with the setup.  You can still use this notebook, but you'll have to install opencv and ipympl manually.  You can do that by un-commenting the two cells following `!conda info`"
   ]
  },
  {
   "cell_type": "code",
   "execution_count": 1,
   "metadata": {},
   "outputs": [
    {
     "name": "stdout",
     "output_type": "stream",
     "text": [
      "\r\n",
      "     active environment : DropPinchoff\r\n",
      "    active env location : /opt/anaconda3/envs/DropPinchoff\r\n",
      "            shell level : 2\r\n",
      "       user config file : /Users/kevin 1/.condarc\r\n",
      " populated config files : /Users/kevin 1/.condarc\r\n",
      "          conda version : 4.10.3\r\n",
      "    conda-build version : 3.21.4\r\n",
      "         python version : 3.8.8.final.0\r\n",
      "       virtual packages : __osx=10.16=0\r\n",
      "                          __unix=0=0\r\n",
      "                          __archspec=1=x86_64\r\n",
      "       base environment : /opt/anaconda3  (writable)\r\n",
      "      conda av data dir : /opt/anaconda3/etc/conda\r\n",
      "  conda av metadata url : None\r\n",
      "           channel URLs : https://conda.anaconda.org/conda-forge/osx-64\r\n",
      "                          https://conda.anaconda.org/conda-forge/noarch\r\n",
      "                          https://repo.anaconda.com/pkgs/main/osx-64\r\n",
      "                          https://repo.anaconda.com/pkgs/main/noarch\r\n",
      "                          https://repo.anaconda.com/pkgs/r/osx-64\r\n",
      "                          https://repo.anaconda.com/pkgs/r/noarch\r\n",
      "          package cache : /opt/anaconda3/pkgs\r\n",
      "                          /Users/kevin 1/.conda/pkgs\r\n",
      "       envs directories : /opt/anaconda3/envs\r\n",
      "                          /Users/kevin 1/.conda/envs\r\n",
      "               platform : osx-64\r\n",
      "             user-agent : conda/4.10.3 requests/2.25.1 CPython/3.8.8 Darwin/20.6.0 OSX/10.16\r\n",
      "                UID:GID : 502:20\r\n",
      "             netrc file : None\r\n",
      "           offline mode : False\r\n",
      "\r\n"
     ]
    }
   ],
   "source": [
    "!conda info"
   ]
  },
  {
   "cell_type": "code",
   "execution_count": 2,
   "metadata": {},
   "outputs": [],
   "source": [
    "#pip install opencv-python"
   ]
  },
  {
   "cell_type": "code",
   "execution_count": 3,
   "metadata": {},
   "outputs": [],
   "source": [
    "#pip install ipympl"
   ]
  },
  {
   "cell_type": "code",
   "execution_count": 4,
   "metadata": {},
   "outputs": [],
   "source": [
    "# Import the libraries\n",
    "%matplotlib widget\n",
    "\n",
    "import cv2\n",
    "import numpy as np\n",
    "from matplotlib import pyplot as plt\n",
    "from matplotlib.animation import FuncAnimation\n",
    "import logging as log\n",
    "logger = log.getLogger()\n",
    "logger.setLevel(log.CRITICAL) # set to log.DEBUG to get debugging info\n",
    "#logger.setLevel(log.DEBUG)\n",
    "log.debug(\"Debugger initialized\")"
   ]
  },
  {
   "cell_type": "code",
   "execution_count": 5,
   "metadata": {},
   "outputs": [],
   "source": [
    "max_length = 200  \n",
    "    # Defines the number of frames to read over"
   ]
  },
  {
   "cell_type": "code",
   "execution_count": 6,
   "metadata": {},
   "outputs": [
    {
     "name": "stdout",
     "output_type": "stream",
     "text": [
      "End of file reached!\n"
     ]
    }
   ],
   "source": [
    "class StopExecution(Exception):\n",
    "    def _render_traceback_(self):\n",
    "        pass\n",
    "\n",
    "fname = \"Drop.mp4\"\n",
    "\n",
    "try:\n",
    "    with open(fname):\n",
    "        pass\n",
    "except:\n",
    "    print(\"File not found.  Make sure it is in the same directory as this code.\")\n",
    "\n",
    "cap = cv2.VideoCapture(fname)\n",
    "    # Name of video file.\n",
    "    \n",
    "img_list = []\n",
    "for i in range(0,max_length):\n",
    "    ret, img = cap.read()\n",
    "    if (not ret):\n",
    "        print(\"End of file reached!\")\n",
    "        raise StopExecution # gracefully shuts down when end of file is reached\n",
    "    grey = cv2.cvtColor(img, cv2.COLOR_BGR2GRAY)\n",
    "    img_list.append(grey)"
   ]
  },
  {
   "cell_type": "code",
   "execution_count": 7,
   "metadata": {},
   "outputs": [
    {
     "data": {
      "application/vnd.jupyter.widget-view+json": {
       "model_id": "c2ded0fbda694be889d78ceaa29ea437",
       "version_major": 2,
       "version_minor": 0
      },
      "text/plain": [
       "VBox(children=(HBox(children=(FloatRangeSlider(value=(6.0, 194.0), description='width', layout=Layout(height='…"
      ]
     },
     "metadata": {},
     "output_type": "display_data"
    }
   ],
   "source": [
    "from IPython.display import display\n",
    "from ipywidgets import interact, interactive, fixed, interact_manual,Layout\n",
    "import ipywidgets as widgets\n",
    "plt.ioff() #prevents us from drawing extra plots while setting up\n",
    "\n",
    "#These can all be changed fairly safely\n",
    "target_size = 10 #size of zoom area.  Most useful thing to change if you need to see more.\n",
    "tval = 194\n",
    "bval = 6\n",
    "xval = 134\n",
    "brightness = 1.0\n",
    "frame = 0\n",
    "\n",
    "#This autodetects the size of your frames and the length of the video.  Don't change.\n",
    "xdim = len(img_list[0][0])-1\n",
    "ydim = len(img_list[0])-1\n",
    "vidlen = len(img_list)-1\n",
    "\n",
    "\n",
    "#This establishes all the widgets used for controls and display\n",
    "y_slider = widgets.FloatRangeSlider(min=0,max=ydim,step=1,orientation='vertical',description='width',layout=Layout(height='300px'))\n",
    "x_slider = widgets.IntSlider(min=0,max=xdim,description='length',layout=Layout(width='100%'))\n",
    "bri_slider = widgets.FloatSlider(min=1,max=10,orientation='vertical',description='brightness')\n",
    "frame_slider = widgets.IntSlider(min=0,max=vidlen,orientation='vertical',description='frame')\n",
    "record_button = widgets.Button(description='save')\n",
    "record_next_button = widgets.Button(description='save & advance')\n",
    "drop_disp = widgets.Output(layout=Layout(width='40%'))\n",
    "neck_disp = widgets.Output(layout=Layout(width='50%'))\n",
    "\n",
    "\n",
    "# Now we set up our image of the drop\n",
    "fig = plt.figure(figsize=(7,3),constrained_layout=True)\n",
    "gs = fig.add_gridspec(2,8) # gs stands for 'grid spec', and gives better control over the relative size of subplots\n",
    "\n",
    "ax = fig.add_subplot(gs[0:2,0:-2])\n",
    "drop_img = ax.imshow(np.clip(brightness*img_list[0]/100., 0, 1),origin='lower',cmap='gray') #show the image\n",
    "ax.set_yticks(np.linspace(0,len(img_list[0]),5))\n",
    "drop_meas = ax.vlines(xval,tval,bval,color='red') #show a measurement line\n",
    "minx,maxx = plt.gca().get_xlim() #Fix for zooming in\n",
    "miny,maxy = plt.gca().get_ylim()\n",
    "    \n",
    "#This sets up zoomed-in areas for better visualization\n",
    "ax_top = fig.add_subplot(gs[0, -2:])\n",
    "ax_top.yaxis.tick_right()\n",
    "drop_img_t = ax_top.imshow(np.clip(brightness*img_list[0]/100., 0, 1),origin='lower',cmap='gray')\n",
    "drop_meas_t = ax_top.vlines(xval,tval,bval,color='red',linewidth=3)\n",
    "\n",
    "ax_bot = fig.add_subplot(gs[1, -2:])\n",
    "ax_bot.yaxis.tick_right()\n",
    "drop_img_b = ax_bot.imshow(np.clip(brightness*img_list[0]/100., 0, 1),origin='lower',cmap='gray')\n",
    "drop_meas_b = ax_bot.vlines(xval,tval,bval,color='red',linewidth=3)\n",
    "\n",
    "#Extra code to center our zoomed plots on the ends of our measuring line\n",
    "def set_xlims(ax_target,x,ts=target_size,xdim=xdim):\n",
    "    if x < ts:\n",
    "        ax_target.set_xlim(0, 2*ts)\n",
    "    elif x > xdim-ts:\n",
    "        ax_target.set_xlim(xdim-(2*ts),xdim)\n",
    "    else:\n",
    "        ax_target.set_xlim(x-ts,x+ts)\n",
    "\n",
    "def set_ylims(ax_target,y,ts=target_size,ydim=ydim):\n",
    "    if y < ts:\n",
    "        ax_target.set_ylim(0, 2*ts)\n",
    "    elif y > ydim-ts:\n",
    "        ax_target.set_ylim(ydim-(2*ts),ydim)\n",
    "    else:\n",
    "        ax_target.set_ylim(y-ts,y+ts)\n",
    "\n",
    "set_xlims(ax_top,xval)\n",
    "set_xlims(ax_bot,xval)\n",
    "set_ylims(ax_top,tval)\n",
    "set_ylims(ax_bot,bval)\n",
    "\n",
    "\n",
    "# This part will create a plot of our neck radius versus frame as we go\n",
    "fig2,ax2 = plt.subplots(figsize = (4,2),dpi=100)\n",
    "fig2.canvas.toolbar_visible = False\n",
    "fig2.canvas.header_visible = False\n",
    "ax2.set_title(\"Radius vs frame\")\n",
    "neck_img, = ax2.plot([0],[0],'k.-')\n",
    "ax2.autoscale_view()\n",
    "\n",
    "# Zero out any existing measurements when resetting\n",
    "measurements = [[]]\n",
    "\n",
    "# Make sure our sliders match up with our initial settings\n",
    "y_slider.value = [bval,tval] #Not a bug, the slider just works this way.\n",
    "x_slider.value = xval\n",
    "bri_slider.value = brightness\n",
    "frame_slider.value = frame\n",
    "\n",
    "\n",
    "# The following functions all tie into sliders/buttons and pass their values onto the plot to update it\n",
    "def y_change(change): \n",
    "    global tval,bval\n",
    "    tval = change['new'][1] #this makes the directions behave as you'd expect\n",
    "    bval = change['new'][0]\n",
    "    newshowframe(tval,bval,xval,brightness,frame)\n",
    "    \n",
    "def x_change(change): \n",
    "    global xval\n",
    "    xval = change['new']\n",
    "    newshowframe(tval,bval,xval,brightness,frame)\n",
    "        \n",
    "def brightness_change(change): \n",
    "    global brightness\n",
    "    brightness = change['new']\n",
    "    newshowframe(tval,bval,xval,brightness,frame)\n",
    "    \n",
    "def frame_change(change): \n",
    "    global frame\n",
    "    frame = change['new']\n",
    "    newshowframe(tval,bval,xval,brightness,frame)\n",
    "    \n",
    "def record(value): \n",
    "    global measurements\n",
    "    global frame,tval,bval,xval\n",
    "    try:  # This will be what normally happens: we just add our data onto the end of a list\n",
    "        measurements = np.append(measurements,[[frame,abs(tval-bval),bval,tval,xval]],axis=0)\n",
    "    except: # This happens at the first time we record something, since there's no list to add to.\n",
    "        measurements = np.array([[frame,abs(tval-bval),bval,tval,xval]])\n",
    "\n",
    "# As expected, this records the current neck radius & frame and then advances to the next frame.\n",
    "def record_next(value):\n",
    "    record(value)\n",
    "    global measurements\n",
    "    global frame\n",
    "    frame +=1\n",
    "    frame_slider.value +=1\n",
    "    newshowframe(tval,bval,xval,brightness,frame)\n",
    "    sort_index = np.argsort(measurements[:,0])\n",
    "    neck_img.set_data(measurements[:,0][sort_index],measurements[:,1][sort_index])\n",
    "    ax2.relim()\n",
    "    ax2.autoscale_view()\n",
    "    fig2.canvas.draw_idle()\n",
    "    \n",
    "#These all tie sliders and buttons to their update functions\n",
    "y_slider.observe(y_change, names='value')\n",
    "x_slider.observe(x_change, names='value')\n",
    "bri_slider.observe(brightness_change, names='value')\n",
    "frame_slider.observe(frame_change, names='value')\n",
    "record_button.on_click(record)\n",
    "record_next_button.on_click(record_next)\n",
    "\n",
    "#This is the part that redraws our drop any time we change something relevant.\n",
    "def newshowframe(top=tval,bot=bval,xpos=xval,bright =brightness,frm=frame):\n",
    "    global drop_img\n",
    "    global drop_meas,drop_meas_t,drop_meas_b\n",
    "    minx,maxx = ax.get_xlim()\n",
    "    miny,maxy = ax.get_ylim()\n",
    "    drop_img.set_data(np.clip(bright*img_list[frm]/100., 0, 1))\n",
    "    drop_img_t.set_data(np.clip(bright*img_list[frm]/100., 0, 1))\n",
    "    drop_img_b.set_data(np.clip(bright*img_list[frm]/100., 0, 1))  \n",
    "    drop_meas.get_paths()[0].vertices = [[xpos,top],[xpos,bot]]\n",
    "    drop_meas_t.get_paths()[0].vertices = [[xpos,top],[xpos,bot]]\n",
    "    drop_meas_b.get_paths()[0].vertices = [[xpos,top],[xpos,bot]]\n",
    "    ax.set_xlim(minx,maxx)\n",
    "    ax.set_ylim(miny,maxy)\n",
    "    set_xlims(ax_top,xpos)\n",
    "    set_xlims(ax_bot,xpos)\n",
    "    set_ylims(ax_top,tval)\n",
    "    set_ylims(ax_bot,bval)\n",
    "    fig.canvas.draw_idle()\n",
    "\n",
    "# These set up a nice layout of the controls    \n",
    "neck_selector = widgets.HBox([y_slider,widgets.VBox([fig.canvas,x_slider],layout=Layout(height='350px',width='50pc'))])\n",
    "other_controls = widgets.HBox([bri_slider,frame_slider,widgets.VBox([record_next_button,record_button]),fig2.canvas])\n",
    "controls = widgets.VBox([neck_selector,other_controls])\n",
    "display(controls)\n",
    "# now we let things update again!\n",
    "\n",
    "plt.ion();\n"
   ]
  },
  {
   "cell_type": "markdown",
   "metadata": {},
   "source": [
    "----"
   ]
  },
  {
   "cell_type": "code",
   "execution_count": 8,
   "metadata": {},
   "outputs": [
    {
     "name": "stdout",
     "output_type": "stream",
     "text": [
      "No datapoints selected yet.  Use the controls to save neck radii first.\n"
     ]
    }
   ],
   "source": [
    "# This cell will re-plot your data and save it to your computer\n",
    "import time\n",
    "\n",
    "try:  #If any of the following code fails, it will instead run the except branch below\n",
    "    sorted_index = np.argsort(measurements[:,0])  # this sorts your data by the frame index, in case you didn't enter your points linearly in time.  It mostly is here to make the graph pretty. \n",
    "    sorted_frames = measurements[:,0][sorted_index]\n",
    "    sorted_sizes = measurements[:,1][sorted_index]\n",
    "    # the previous bit re-orders your data in case you went backwards at some point.  Not strictly needed.\n",
    "    fig,ax = plt.subplots()\n",
    "    ax.plot(sorted_frames,sorted_sizes,'k.-')\n",
    "    \n",
    "    dat_name = fname[:-1*fname.find(\".\")] + \"_\" + str(int(time.time())) + \".tsv\"# this cuts off the current suffix and adds the time\n",
    "    toptxt = \"Frame \\t Radius \\t Bottom \\t Top \\t Position\"\n",
    "    np.savetxt(dat_name,measurements[:][sorted_index],header=toptxt) # This sorts your data before saving too!\n",
    "except:\n",
    "    print(\"No datapoints selected yet.  Use the controls to save neck radii first.\")\n",
    "    "
   ]
  },
  {
   "cell_type": "markdown",
   "metadata": {},
   "source": [
    "# Automating the process\n",
    "\n",
    "Now, we can also use Python to do some of our dirty work here.  To start, we'll need to `threshold` the image: any pixels darker than the threshold are turned black, and any brighter are turned white.  In this case, we invert this, but the idea stands.  This eliminates \"fuzzy\" edges, but it also loses some nuance in decision making.\n",
    "\n",
    "The code snippet below will let you see what changing the thresholding value does to the drop image.  The value you set with the slider will be used throughout the data.\n",
    "\n",
    "**Adjust the threshold value such that you have a solid outline for your drop for the entire set of frames**"
   ]
  },
  {
   "cell_type": "code",
   "execution_count": 9,
   "metadata": {},
   "outputs": [
    {
     "data": {
      "application/vnd.jupyter.widget-view+json": {
       "model_id": "e70227202f5642229c3f8877e8af56d0",
       "version_major": 2,
       "version_minor": 0
      },
      "text/plain": [
       "interactive(children=(IntSlider(value=40, description='t_val', max=255), IntSlider(value=0, description='frm',…"
      ]
     },
     "metadata": {},
     "output_type": "display_data"
    },
    {
     "data": {
      "application/vnd.jupyter.widget-view+json": {
       "model_id": "311a8f287de347a1a206a4ba324b6f33",
       "version_major": 2,
       "version_minor": 0
      },
      "text/html": [
       "\n",
       "            <div style=\"display: inline-block;\">\n",
       "                <div class=\"jupyter-widgets widget-label\" style=\"text-align: center;\">\n",
       "                    Figure\n",
       "                </div>\n",
       "                <img src='data:image/png;base64,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' width=960.0/>\n",
       "            </div>\n",
       "        "
      ],
      "text/plain": [
       "Canvas(toolbar=Toolbar(toolitems=[('Home', 'Reset original view', 'home', 'home'), ('Back', 'Back to previous …"
      ]
     },
     "metadata": {},
     "output_type": "display_data"
    }
   ],
   "source": [
    "from ipywidgets import interact,fixed,interactive\n",
    "\n",
    "# We'll only initialize these variables if they don't already exist\n",
    "if not \"grey_threshold\" in globals():\n",
    "    grey_threshold = 40\n",
    "if not \"current_frame\" in globals():\n",
    "    current_frame = 0\n",
    "\n",
    "plt.ion()\n",
    "fig,ax = plt.subplots(figsize = (8,2),dpi=120)\n",
    "thresh_img = ax.imshow(img_list[0],cmap='gray')\n",
    "\n",
    "def try_threshold(t_val=40,frm=0):\n",
    "    global grey_threshold\n",
    "    grey_threshold = t_val\n",
    "    ret,thresh = cv2.threshold(img_list[frm],t_val,255,cv2.THRESH_BINARY_INV)\n",
    "    thresh_img.set_data(thresh)\n",
    "\n",
    "def get_child_widget(parent,childname):\n",
    "    results = [t for t in parent.children if getattr(t, 'description', None) == childname]\n",
    "    return results[0]     \n",
    "\n",
    "def get_child_widget_value(parent,childname): # Function not used currently\n",
    "    results = [t.value for t in parent.children if getattr(t, 'description', None) == childname]\n",
    "    return results[0] \n",
    "\n",
    "def update_threshold(change):\n",
    "    global grey_threshold\n",
    "    grey_threshold = change['new']\n",
    "    log.debug(\"threshold set to {}\".format(change['new']))\n",
    "    \n",
    "def update_frame(change):\n",
    "    global current_frame\n",
    "    current_frame = change['new']\n",
    "    log.debug(\"current frame set to {}\".format(change['new']))\n",
    "\n",
    "threshold_widget = interactive(try_threshold, t_val=(0,255),frm=(0,vidlen))\n",
    "display(threshold_widget)\n",
    "\n",
    "get_child_widget(threshold_widget,'t_val').observe(update_threshold, names='value')\n",
    "get_child_widget(threshold_widget,'frm').observe(update_frame, names='value')"
   ]
  },
  {
   "cell_type": "markdown",
   "metadata": {},
   "source": [
    "To find the width of our drop, we'll look for the top and bottom white pixels in each column.  This conviniently ignores illumination highlights on the drop that would otherwise cause trouble.\n",
    "\n",
    "One major issue is that the leading edge of the drop will be smaller than the drop's neck for quite a while into a video.  To do this, the algorithm takes the minimum it finds and looks at the points to the left and right of it.  If one of those points doesn't contain any white pixels, it indicates that we're at the edge of the drop.  The function then drops that point from its dataset and repeats until it finds a minimum that isn't at an edge.  \n",
    "\n",
    "**Points at the extremes of the image are also rejected, so beware this behavior if your neck is on the edge of the screen.**\n",
    "\n",
    "Finally, the function returns the leftmost point that is at the minimum neck radius.  **This last part is not robust and it jitters a lot**\n",
    "\n",
    "The cell below just defines our function, the one after that actually searches our video."
   ]
  },
  {
   "cell_type": "code",
   "execution_count": 11,
   "metadata": {},
   "outputs": [
    {
     "name": "stdout",
     "output_type": "stream",
     "text": [
      "Function created\n"
     ]
    }
   ],
   "source": [
    "def findmin(data):\n",
    "    current_data = data\n",
    "    running = True\n",
    "    while running:\n",
    "        current_min = np.min(current_data)\n",
    "        current_min_pos = np.argmax(current_data == current_min)#this finds the first point that meets the criteria\n",
    "        log.debug(current_min_pos)\n",
    "        if(current_min_pos >= len(current_data)-1):\n",
    "            current_data = np.delete(current_data,current_min_pos)\n",
    "        elif(current_data[current_min_pos-1]==ydim or current_data[current_min_pos+1]==ydim):\n",
    "            current_data = np.delete(current_data,current_min_pos)\n",
    "        else:\n",
    "            running=False\n",
    "        if len(current_data) == 0:\n",
    "            return 0 #if we eliminate all of our data looking for a neck, just start at the far left.\n",
    "    return(current_min_pos)\n",
    "print(\"Function created\")"
   ]
  },
  {
   "cell_type": "markdown",
   "metadata": {},
   "source": [
    "The next cell loops through our video frame by frame to find the top and bottom pixels of the drop in each column, and then find the smallest neck position.  It then overlays its estimate of the smallest neck position on top of the thresholded image."
   ]
  },
  {
   "cell_type": "code",
   "execution_count": 12,
   "metadata": {
    "scrolled": true
   },
   "outputs": [
    {
     "data": {
      "application/vnd.jupyter.widget-view+json": {
       "model_id": "4a57674f32ad42cbbb85bbed13802c02",
       "version_major": 2,
       "version_minor": 0
      },
      "text/plain": [
       "IntProgress(value=0, description='Progress', max=125)"
      ]
     },
     "metadata": {},
     "output_type": "display_data"
    },
    {
     "name": "stderr",
     "output_type": "stream",
     "text": [
      "/var/folders/rl/tl4qtvj57b566bjy5j9py4xh0000gp/T/ipykernel_79205/188298004.py:20: RuntimeWarning: More than 20 figures have been opened. Figures created through the pyplot interface (`matplotlib.pyplot.figure`) are retained until explicitly closed and may consume too much memory. (To control this warning, see the rcParam `figure.max_open_warning`).\n",
      "  fig,ax = plt.subplots(figsize = (10,4),dpi=120)\n"
     ]
    },
    {
     "name": "stdout",
     "output_type": "stream",
     "text": [
      "Finished!\n"
     ]
    }
   ],
   "source": [
    "neckdata = np.zeros((vidlen,xdim,3))\n",
    "data_to_save = np.zeros((vidlen,5))\n",
    "frames = [] \n",
    "progress = widgets.IntProgress(value=0, min=0,max=vidlen,description=\"Progress\")\n",
    "display(progress)\n",
    "edge_threshold = 1 # This is the number of pixels from the top & bottom of the frame that are excluded from being considered part of the neck.\n",
    "\n",
    "xmax = xdim # change if you need to limit the search region\n",
    "\n",
    "plt.ioff() # This keeps matplotlib from showing tons of extra figures.\n",
    "for frame_val in range(0,vidlen):\n",
    "    ret,thresh = cv2.threshold(img_list[frame_val],grey_threshold,255,cv2.THRESH_BINARY_INV)\n",
    "    for i in range(0,xdim):\n",
    "        neckdata[frame_val][i][0] = np.argmax(thresh[:,i]==255)\n",
    "        neckdata[frame_val][i][1] = ydim - np.argmax(thresh[:,i][::-1]==255)\n",
    "        neckdata[frame_val][i][2] = neckdata[frame_val][i][1]-neckdata[frame_val][i][0]\n",
    "        if (neckdata[frame_val][i][0] <= edge_threshold or neckdata[frame_val][i][1] >= ydim-edge_threshold):\n",
    "            neckdata[frame_val][i][2] = ydim\n",
    "    \n",
    "    fig,ax = plt.subplots(figsize = (10,4),dpi=120)\n",
    "    ax.imshow(thresh,origin='upper', animated=True,cmap='gray');\n",
    "    plt.axis([0, xdim , 0, ydim])\n",
    "    \n",
    "    frame_min_pos = findmin(neckdata[frame_val][:,2])\n",
    "    ax.vlines(frame_min_pos,neckdata[frame_val][frame_min_pos][0],neckdata[frame_val][frame_min_pos][1],color='red')\n",
    "    data_to_save[frame_val] = [frame_val,neckdata[frame_val][frame_min_pos][0],neckdata[frame_val][frame_min_pos][1],neckdata[frame_val][frame_min_pos][1] - neckdata[frame_val][frame_min_pos][0],frame_min_pos]\n",
    "    frames.append(fig)\n",
    "    progress.value +=1\n",
    "print(\"Finished!\")"
   ]
  },
  {
   "cell_type": "markdown",
   "metadata": {},
   "source": [
    "Now you can scroll through the video frames to make sure nothing crazy is happening by using the widget below.  It'll take a moment to start so be patient."
   ]
  },
  {
   "cell_type": "code",
   "execution_count": 13,
   "metadata": {},
   "outputs": [
    {
     "data": {
      "application/vnd.jupyter.widget-view+json": {
       "model_id": "0ecb6eabeffa496d92f742a8e01a893f",
       "version_major": 2,
       "version_minor": 0
      },
      "text/plain": [
       "Output()"
      ]
     },
     "metadata": {},
     "output_type": "display_data"
    },
    {
     "data": {
      "application/vnd.jupyter.widget-view+json": {
       "model_id": "44ed2018452241f4b78278d6ee41ffa0",
       "version_major": 2,
       "version_minor": 0
      },
      "text/plain": [
       "IntSlider(value=0, continuous_update=False, max=124)"
      ]
     },
     "metadata": {},
     "output_type": "display_data"
    }
   ],
   "source": [
    "from IPython.display import clear_output\n",
    "fig, ax = plt.subplots();\n",
    "disp = widgets.Output();\n",
    "\n",
    "def showframe(frm=0):\n",
    "    global frames\n",
    "    disp.clear_output(wait=True);\n",
    "    with disp:\n",
    "        display(frames[frm]);\n",
    "\n",
    "frame_slider2 = widgets.IntSlider(min=0,max=len(frames)-1,value=0,continuous_update=False) #I got lazy with names, so sue me.\n",
    "def frame_change2(change): \n",
    "    showframe(change['new']);\n",
    "    \n",
    "frame_slider2.observe(frame_change2, names='value');\n",
    "showframe(0);\n",
    "display(disp);\n",
    "display(frame_slider2);\n",
    "plt.close('all')"
   ]
  },
  {
   "cell_type": "markdown",
   "metadata": {},
   "source": [
    "Finally, this plots our data and outputs the positions to a handy .tsv file."
   ]
  },
  {
   "cell_type": "code",
   "execution_count": 14,
   "metadata": {},
   "outputs": [
    {
     "data": {
      "application/vnd.jupyter.widget-view+json": {
       "model_id": "0c645998fc5c4dad8c8e99952732e6ef",
       "version_major": 2,
       "version_minor": 0
      },
      "text/html": [
       "\n",
       "            <div style=\"display: inline-block;\">\n",
       "                <div class=\"jupyter-widgets widget-label\" style=\"text-align: center;\">\n",
       "                    Figure\n",
       "                </div>\n",
       "                <img src='data:image/png;base64,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' width=640.0/>\n",
       "            </div>\n",
       "        "
      ],
      "text/plain": [
       "Canvas(toolbar=Toolbar(toolitems=[('Home', 'Reset original view', 'home', 'home'), ('Back', 'Back to previous …"
      ]
     },
     "metadata": {},
     "output_type": "display_data"
    }
   ],
   "source": [
    "import time\n",
    "plt.ion()\n",
    "fig, (ax,ay) = plt.subplots(1,2)\n",
    "scaletype = \"linear\"\n",
    "\n",
    "ax.set_yscale(scaletype)\n",
    "ax.set_xscale(scaletype)\n",
    "\n",
    "ax.plot(data_to_save[::,4],label = \"Position\",color=\"b\") #This plots the 5th column of the data_to_save array\n",
    "ay.plot(data_to_save[::,3],label = \"Radius\")\n",
    "\n",
    "ax.set_title(\"Neck position\")\n",
    "ay.set_title(\"Neck size\")\n",
    "\n",
    "\n",
    "ax.set_ylabel(\"Pixels\")\n",
    "ax.set_xlabel(\"Frame\")\n",
    "\n",
    "ay.set_ylabel(\"Pixels\")\n",
    "ay.set_xlabel(\"Frame\")\n",
    "\n",
    "plt.tight_layout()\n",
    "ax.legend()\n",
    "ay.legend()\n",
    "\n",
    "\n",
    "dat_name = fname[:-1*fname.find(\".\")] + \"_auto_\" + str(int(time.time())) + \".tsv\"# this cuts off the current suffix and adds the time\n",
    "toptxt = \"Video File: {}\\n\".format(fname)\n",
    "toptxt += \"Grey_threshold value: {}\\n\".format(grey_threshold)\n",
    "toptxt += \"Frame \\t Top \\t Bottom \\t Radius \\t Position\"\n",
    "np.savetxt(dat_name,data_to_save,header=toptxt) "
   ]
  },
  {
   "cell_type": "markdown",
   "metadata": {},
   "source": [
    "----\n",
    "\n",
    "That was the end of the main code, the rest is for messing around or debugging.\n",
    "\n",
    "\n",
    "Just for fun, we can look at the evolution of the radius along the drop over time."
   ]
  },
  {
   "cell_type": "code",
   "execution_count": 15,
   "metadata": {
    "scrolled": false
   },
   "outputs": [
    {
     "data": {
      "application/vnd.jupyter.widget-view+json": {
       "model_id": "29c99455d8464b5ca3919805d51778b3",
       "version_major": 2,
       "version_minor": 0
      },
      "text/plain": [
       "Output()"
      ]
     },
     "metadata": {},
     "output_type": "display_data"
    },
    {
     "data": {
      "application/vnd.jupyter.widget-view+json": {
       "model_id": "dba61e0cb3ea4bb0b510968894bdf870",
       "version_major": 2,
       "version_minor": 0
      },
      "text/plain": [
       "IntSlider(value=0, continuous_update=False, max=124)"
      ]
     },
     "metadata": {},
     "output_type": "display_data"
    },
    {
     "data": {
      "application/vnd.jupyter.widget-view+json": {
       "model_id": "2da50afbe1444cb883b7d094a9b1fe90",
       "version_major": 2,
       "version_minor": 0
      },
      "text/html": [
       "\n",
       "            <div style=\"display: inline-block;\">\n",
       "                <div class=\"jupyter-widgets widget-label\" style=\"text-align: center;\">\n",
       "                    Figure\n",
       "                </div>\n",
       "                <img src='data:image/png;base64,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' width=640.0/>\n",
       "            </div>\n",
       "        "
      ],
      "text/plain": [
       "Canvas(toolbar=Toolbar(toolitems=[('Home', 'Reset original view', 'home', 'home'), ('Back', 'Back to previous …"
      ]
     },
     "metadata": {},
     "output_type": "display_data"
    }
   ],
   "source": [
    "plt.ion()\n",
    "from IPython.display import clear_output\n",
    "fig, ax = plt.subplots();\n",
    "disp2 = widgets.Output();\n",
    "\n",
    "def showframe2(frm=0):\n",
    "    global neckdata\n",
    "    disp2.clear_output(wait=True);\n",
    "    with disp2:\n",
    "        plt.gca().clear()\n",
    "        ax.plot(neckdata[frm][:,2]);\n",
    "\n",
    "frame_slider3 = widgets.IntSlider(min=0,max=len(frames)-1,value=0,continuous_update=False) #I got lazy with names, so sue me.\n",
    "def frame_change3(change): \n",
    "    showframe2(change['new']);\n",
    "\n",
    "    \n",
    "frame_slider3.observe(frame_change3, names='value');\n",
    "showframe2(0);\n",
    "display(disp2);\n",
    "display(frame_slider3);"
   ]
  },
  {
   "cell_type": "markdown",
   "metadata": {},
   "source": [
    "This will load the last file you saved from running an earlier cell and verify that its behaving properly."
   ]
  },
  {
   "cell_type": "code",
   "execution_count": 16,
   "metadata": {},
   "outputs": [
    {
     "data": {
      "text/plain": [
       "<matplotlib.legend.Legend at 0x7fbe343c5130>"
      ]
     },
     "execution_count": 16,
     "metadata": {},
     "output_type": "execute_result"
    },
    {
     "data": {
      "application/vnd.jupyter.widget-view+json": {
       "model_id": "8595647c305d435c9924ba3db61fcc9f",
       "version_major": 2,
       "version_minor": 0
      },
      "text/html": [
       "\n",
       "            <div style=\"display: inline-block;\">\n",
       "                <div class=\"jupyter-widgets widget-label\" style=\"text-align: center;\">\n",
       "                    Figure\n",
       "                </div>\n",
       "                <img src='data:image/png;base64,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' width=640.0/>\n",
       "            </div>\n",
       "        "
      ],
      "text/plain": [
       "Canvas(toolbar=Toolbar(toolitems=[('Home', 'Reset original view', 'home', 'home'), ('Back', 'Back to previous …"
      ]
     },
     "metadata": {},
     "output_type": "display_data"
    }
   ],
   "source": [
    "lframe,l_top,l_bot,l_wid,l_pos = np.loadtxt(dat_name,unpack=True)\n",
    "plt.ion()\n",
    "fig, (ax,ay) = plt.subplots(1,2)\n",
    "scaletype = \"linear\"\n",
    "\n",
    "ax.set_yscale(scaletype)\n",
    "ax.set_xscale(scaletype)\n",
    "\n",
    "ax.plot(l_pos,label = \"Position\",color=\"b\") #This plots the 5th column of the data_to_save array\n",
    "ay.plot(l_wid,label = \"Radius\")\n",
    "\n",
    "ax.set_title(\"Neck position from file\")\n",
    "ay.set_title(\"Neck size from file\")\n",
    "\n",
    "\n",
    "ax.set_ylabel(\"Pixels\")\n",
    "ax.set_xlabel(\"Frame\")\n",
    "\n",
    "ay.set_ylabel(\"Pixels\")\n",
    "ay.set_xlabel(\"Frame\")\n",
    "\n",
    "plt.tight_layout()\n",
    "ax.legend()\n",
    "ay.legend()"
   ]
  },
  {
   "cell_type": "markdown",
   "metadata": {},
   "source": [
    "----"
   ]
  }
 ],
 "metadata": {
  "kernelspec": {
   "display_name": "Python [conda env:DropPinchoff]",
   "language": "python",
   "name": "conda-env-DropPinchoff-py"
  },
  "language_info": {
   "codemirror_mode": {
    "name": "ipython",
    "version": 3
   },
   "file_extension": ".py",
   "mimetype": "text/x-python",
   "name": "python",
   "nbconvert_exporter": "python",
   "pygments_lexer": "ipython3",
   "version": "3.8.12"
  }
 },
 "nbformat": 4,
 "nbformat_minor": 2
}
