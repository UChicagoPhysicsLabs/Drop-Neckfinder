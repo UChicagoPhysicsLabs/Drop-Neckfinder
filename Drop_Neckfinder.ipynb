{
 "cells": [
  {
   "cell_type": "markdown",
   "metadata": {},
   "source": [
    "If you're working off of your local machine and the following doesn't say the active environment is `DropPinchoff` something may have gone wrong with the setup.  You can still use this notebook, but you'll have to install opencv and ipympl manually.  You can do that by un-commenting the two cells following `!conda info`"
   ]
  },
  {
   "cell_type": "code",
   "execution_count": 1,
   "metadata": {},
   "outputs": [
    {
     "name": "stdout",
     "output_type": "stream",
     "text": [
      "\r\n",
      "     active environment : DropPinchoff\r\n",
      "    active env location : /opt/anaconda3/envs/DropPinchoff\r\n",
      "            shell level : 2\r\n",
      "       user config file : /Users/kevin 1/.condarc\r\n",
      " populated config files : /Users/kevin 1/.condarc\r\n",
      "          conda version : 4.10.3\r\n",
      "    conda-build version : 3.21.4\r\n",
      "         python version : 3.8.8.final.0\r\n",
      "       virtual packages : __osx=10.16=0\r\n",
      "                          __unix=0=0\r\n",
      "                          __archspec=1=x86_64\r\n",
      "       base environment : /opt/anaconda3  (writable)\r\n",
      "      conda av data dir : /opt/anaconda3/etc/conda\r\n",
      "  conda av metadata url : None\r\n",
      "           channel URLs : https://conda.anaconda.org/conda-forge/osx-64\r\n",
      "                          https://conda.anaconda.org/conda-forge/noarch\r\n",
      "                          https://repo.anaconda.com/pkgs/main/osx-64\r\n",
      "                          https://repo.anaconda.com/pkgs/main/noarch\r\n",
      "                          https://repo.anaconda.com/pkgs/r/osx-64\r\n",
      "                          https://repo.anaconda.com/pkgs/r/noarch\r\n",
      "          package cache : /opt/anaconda3/pkgs\r\n",
      "                          /Users/kevin 1/.conda/pkgs\r\n",
      "       envs directories : /opt/anaconda3/envs\r\n",
      "                          /Users/kevin 1/.conda/envs\r\n",
      "               platform : osx-64\r\n",
      "             user-agent : conda/4.10.3 requests/2.25.1 CPython/3.8.8 Darwin/20.6.0 OSX/10.16\r\n",
      "                UID:GID : 502:20\r\n",
      "             netrc file : None\r\n",
      "           offline mode : False\r\n",
      "\r\n"
     ]
    }
   ],
   "source": [
    "!conda info"
   ]
  },
  {
   "cell_type": "code",
   "execution_count": 2,
   "metadata": {},
   "outputs": [],
   "source": [
    "#pip install opencv-python"
   ]
  },
  {
   "cell_type": "code",
   "execution_count": 3,
   "metadata": {},
   "outputs": [],
   "source": [
    "#pip install ipympl"
   ]
  },
  {
   "cell_type": "code",
   "execution_count": 4,
   "metadata": {},
   "outputs": [],
   "source": [
    "# Import the libraries\n",
    "%matplotlib widget\n",
    "\n",
    "import cv2\n",
    "import numpy as np\n",
    "from matplotlib import pyplot as plt\n",
    "from matplotlib.animation import FuncAnimation\n",
    "import logging as log\n",
    "logger = log.getLogger()\n",
    "logger.setLevel(log.CRITICAL) # set to log.DEBUG to get debugging info\n",
    "#logger.setLevel(log.DEBUG)\n",
    "log.debug(\"Debugger initialized\")"
   ]
  },
  {
   "cell_type": "code",
   "execution_count": 5,
   "metadata": {},
   "outputs": [],
   "source": [
    "max_length = 200  \n",
    "    # Defines the number of frames to read over"
   ]
  },
  {
   "cell_type": "code",
   "execution_count": 6,
   "metadata": {},
   "outputs": [
    {
     "name": "stdout",
     "output_type": "stream",
     "text": [
      "End of file reached!\n"
     ]
    }
   ],
   "source": [
    "class StopExecution(Exception):\n",
    "    def _render_traceback_(self):\n",
    "        pass\n",
    "\n",
    "fname = \"Drop.mp4\"\n",
    "\n",
    "try:\n",
    "    with open(fname):\n",
    "        pass\n",
    "except:\n",
    "    print(\"File not found.  Make sure it is in the same directory as this code.\")\n",
    "\n",
    "cap = cv2.VideoCapture(fname)\n",
    "    # Name of video file.\n",
    "    \n",
    "img_list = []\n",
    "for i in range(0,max_length):\n",
    "    ret, img = cap.read()\n",
    "    if (not ret):\n",
    "        print(\"End of file reached!\")\n",
    "        raise StopExecution # gracefully shuts down when end of file is reached\n",
    "    grey = cv2.cvtColor(img, cv2.COLOR_BGR2GRAY)\n",
    "    img_list.append(grey)"
   ]
  },
  {
   "cell_type": "code",
   "execution_count": 7,
   "metadata": {},
   "outputs": [
    {
     "data": {
      "application/vnd.jupyter.widget-view+json": {
       "model_id": "e1cad2ff69914273b45be105aa607fc5",
       "version_major": 2,
       "version_minor": 0
      },
      "text/plain": [
       "VBox(children=(HBox(children=(FloatRangeSlider(value=(6.0, 194.0), description='width', layout=Layout(height='…"
      ]
     },
     "metadata": {},
     "output_type": "display_data"
    }
   ],
   "source": [
    "from IPython.display import display\n",
    "from ipywidgets import interact, interactive, fixed, interact_manual,Layout\n",
    "import ipywidgets as widgets\n",
    "plt.ioff() #prevents us from drawing extra plots while setting up\n",
    "\n",
    "#These can all be changed fairly safely\n",
    "target_size = 10 #size of zoom area.  Most useful thing to change if you need to see more.\n",
    "tval = 194\n",
    "bval = 6\n",
    "xval = 134\n",
    "brightness = 1.0\n",
    "frame = 0\n",
    "\n",
    "#This autodetects the size of your frames and the length of the video.  Don't change.\n",
    "xdim = len(img_list[0][0])-1\n",
    "ydim = len(img_list[0])-1\n",
    "vidlen = len(img_list)-1\n",
    "\n",
    "\n",
    "#This establishes all the widgets used for controls and display\n",
    "y_slider = widgets.FloatRangeSlider(min=0,max=ydim,step=1,orientation='vertical',description='width',layout=Layout(height='300px'))\n",
    "x_slider = widgets.IntSlider(min=0,max=xdim,description='length',layout=Layout(width='100%'))\n",
    "bri_slider = widgets.FloatSlider(min=1,max=10,orientation='vertical',description='brightness')\n",
    "frame_slider = widgets.IntSlider(min=0,max=vidlen,orientation='vertical',description='frame')\n",
    "record_button = widgets.Button(description='save')\n",
    "record_next_button = widgets.Button(description='save & advance')\n",
    "drop_disp = widgets.Output(layout=Layout(width='40%'))\n",
    "neck_disp = widgets.Output(layout=Layout(width='50%'))\n",
    "\n",
    "\n",
    "# Now we set up our image of the drop\n",
    "fig = plt.figure(figsize=(7,3),constrained_layout=True)\n",
    "gs = fig.add_gridspec(2,8) # gs stands for 'grid spec', and gives better control over the relative size of subplots\n",
    "\n",
    "ax = fig.add_subplot(gs[0:2,0:-2])\n",
    "drop_img = ax.imshow(np.clip(brightness*img_list[0]/100., 0, 1),origin='lower',cmap='gray') #show the image\n",
    "ax.set_yticks(np.linspace(0,len(img_list[0]),5))\n",
    "drop_meas = ax.vlines(xval,tval,bval,color='red') #show a measurement line\n",
    "minx,maxx = plt.gca().get_xlim() #Fix for zooming in\n",
    "miny,maxy = plt.gca().get_ylim()\n",
    "    \n",
    "#This sets up zoomed-in areas for better visualization\n",
    "ax_top = fig.add_subplot(gs[0, -2:])\n",
    "ax_top.yaxis.tick_right()\n",
    "drop_img_t = ax_top.imshow(np.clip(brightness*img_list[0]/100., 0, 1),origin='lower',cmap='gray')\n",
    "drop_meas_t = ax_top.vlines(xval,tval,bval,color='red',linewidth=3)\n",
    "\n",
    "ax_bot = fig.add_subplot(gs[1, -2:])\n",
    "ax_bot.yaxis.tick_right()\n",
    "drop_img_b = ax_bot.imshow(np.clip(brightness*img_list[0]/100., 0, 1),origin='lower',cmap='gray')\n",
    "drop_meas_b = ax_bot.vlines(xval,tval,bval,color='red',linewidth=3)\n",
    "\n",
    "#Extra code to center our zoomed plots on the ends of our measuring line\n",
    "def set_xlims(ax_target,x,ts=target_size,xdim=xdim):\n",
    "    if x < ts:\n",
    "        ax_target.set_xlim(0, 2*ts)\n",
    "    elif x > xdim-ts:\n",
    "        ax_target.set_xlim(xdim-(2*ts),xdim)\n",
    "    else:\n",
    "        ax_target.set_xlim(x-ts,x+ts)\n",
    "\n",
    "def set_ylims(ax_target,y,ts=target_size,ydim=ydim):\n",
    "    if y < ts:\n",
    "        ax_target.set_ylim(0, 2*ts)\n",
    "    elif y > ydim-ts:\n",
    "        ax_target.set_ylim(ydim-(2*ts),ydim)\n",
    "    else:\n",
    "        ax_target.set_ylim(y-ts,y+ts)\n",
    "\n",
    "set_xlims(ax_top,xval)\n",
    "set_xlims(ax_bot,xval)\n",
    "set_ylims(ax_top,tval)\n",
    "set_ylims(ax_bot,bval)\n",
    "\n",
    "\n",
    "# This part will create a plot of our neck radius versus frame as we go\n",
    "fig2,ax2 = plt.subplots(figsize = (4,2),dpi=100)\n",
    "fig2.canvas.toolbar_visible = False\n",
    "fig2.canvas.header_visible = False\n",
    "ax2.set_title(\"Radius vs frame\")\n",
    "neck_img, = ax2.plot([0],[0],'k.-')\n",
    "ax2.autoscale_view()\n",
    "\n",
    "# Zero out any existing measurements when resetting\n",
    "measurements = [[]]\n",
    "\n",
    "# Make sure our sliders match up with our initial settings\n",
    "y_slider.value = [bval,tval] #Not a bug, the slider just works this way.\n",
    "x_slider.value = xval\n",
    "bri_slider.value = brightness\n",
    "frame_slider.value = frame\n",
    "\n",
    "\n",
    "# The following functions all tie into sliders/buttons and pass their values onto the plot to update it\n",
    "def y_change(change): \n",
    "    global tval,bval\n",
    "    tval = change['new'][1] #this makes the directions behave as you'd expect\n",
    "    bval = change['new'][0]\n",
    "    newshowframe(tval,bval,xval,brightness,frame)\n",
    "    \n",
    "def x_change(change): \n",
    "    global xval\n",
    "    xval = change['new']\n",
    "    newshowframe(tval,bval,xval,brightness,frame)\n",
    "        \n",
    "def brightness_change(change): \n",
    "    global brightness\n",
    "    brightness = change['new']\n",
    "    newshowframe(tval,bval,xval,brightness,frame)\n",
    "    \n",
    "def frame_change(change): \n",
    "    global frame\n",
    "    frame = change['new']\n",
    "    newshowframe(tval,bval,xval,brightness,frame)\n",
    "    \n",
    "def record(value): \n",
    "    global measurements\n",
    "    global frame,tval,bval,xval\n",
    "    try:  # This will be what normally happens: we just add our data onto the end of a list\n",
    "        measurements = np.append(measurements,[[frame,abs(tval-bval),bval,tval,xval]],axis=0)\n",
    "    except: # This happens at the first time we record something, since there's no list to add to.\n",
    "        measurements = np.array([[frame,abs(tval-bval),bval,tval,xval]])\n",
    "\n",
    "# As expected, this records the current neck radius & frame and then advances to the next frame.\n",
    "def record_next(value):\n",
    "    record(value)\n",
    "    global measurements\n",
    "    global frame\n",
    "    frame +=1\n",
    "    frame_slider.value +=1\n",
    "    newshowframe(tval,bval,xval,brightness,frame)\n",
    "    sort_index = np.argsort(measurements[:,0])\n",
    "    neck_img.set_data(measurements[:,0][sort_index],measurements[:,1][sort_index])\n",
    "    ax2.relim()\n",
    "    ax2.autoscale_view()\n",
    "    fig2.canvas.draw_idle()\n",
    "    \n",
    "#These all tie sliders and buttons to their update functions\n",
    "y_slider.observe(y_change, names='value')\n",
    "x_slider.observe(x_change, names='value')\n",
    "bri_slider.observe(brightness_change, names='value')\n",
    "frame_slider.observe(frame_change, names='value')\n",
    "record_button.on_click(record)\n",
    "record_next_button.on_click(record_next)\n",
    "\n",
    "#This is the part that redraws our drop any time we change something relevant.\n",
    "def newshowframe(top=tval,bot=bval,xpos=xval,bright =brightness,frm=frame):\n",
    "    global drop_img\n",
    "    global drop_meas,drop_meas_t,drop_meas_b\n",
    "    minx,maxx = ax.get_xlim()\n",
    "    miny,maxy = ax.get_ylim()\n",
    "    drop_img.set_data(np.clip(bright*img_list[frm]/100., 0, 1))\n",
    "    drop_img_t.set_data(np.clip(bright*img_list[frm]/100., 0, 1))\n",
    "    drop_img_b.set_data(np.clip(bright*img_list[frm]/100., 0, 1))  \n",
    "    drop_meas.get_paths()[0].vertices = [[xpos,top],[xpos,bot]]\n",
    "    drop_meas_t.get_paths()[0].vertices = [[xpos,top],[xpos,bot]]\n",
    "    drop_meas_b.get_paths()[0].vertices = [[xpos,top],[xpos,bot]]\n",
    "    ax.set_xlim(minx,maxx)\n",
    "    ax.set_ylim(miny,maxy)\n",
    "    set_xlims(ax_top,xpos)\n",
    "    set_xlims(ax_bot,xpos)\n",
    "    set_ylims(ax_top,tval)\n",
    "    set_ylims(ax_bot,bval)\n",
    "    fig.canvas.draw_idle()\n",
    "\n",
    "# These set up a nice layout of the controls    \n",
    "neck_selector = widgets.HBox([y_slider,widgets.VBox([fig.canvas,x_slider],layout=Layout(height='350px',width='50pc'))])\n",
    "other_controls = widgets.HBox([bri_slider,frame_slider,widgets.VBox([record_next_button,record_button]),fig2.canvas])\n",
    "controls = widgets.VBox([neck_selector,other_controls])\n",
    "display(controls)\n",
    "# now we let things update again!\n",
    "\n",
    "plt.ion();\n"
   ]
  },
  {
   "cell_type": "markdown",
   "metadata": {},
   "source": [
    "----"
   ]
  },
  {
   "cell_type": "code",
   "execution_count": 8,
   "metadata": {},
   "outputs": [
    {
     "name": "stdout",
     "output_type": "stream",
     "text": [
      "No datapoints selected yet.  Use the controls to save neck radii first.\n"
     ]
    }
   ],
   "source": [
    "# This cell will re-plot your data and save it to your computer\n",
    "import time\n",
    "\n",
    "try:  #If any of the following code fails, it will instead run the except branch below\n",
    "    sorted_index = np.argsort(measurements[:,0])  # this sorts your data by the frame index, in case you didn't enter your points linearly in time.  It mostly is here to make the graph pretty. \n",
    "    sorted_frames = measurements[:,0][sorted_index]\n",
    "    sorted_sizes = measurements[:,1][sorted_index]\n",
    "    # the previous bit re-orders your data in case you went backwards at some point.  Not strictly needed.\n",
    "    fig,ax = plt.subplots()\n",
    "    ax.plot(sorted_frames,sorted_sizes,'k.-')\n",
    "    \n",
    "    dat_name = fname[:-1*fname.find(\".\")] + \"_\" + str(int(time.time())) + \".tsv\"# this cuts off the current suffix and adds the time\n",
    "    toptxt = \"Frame \\t Radius \\t Bottom \\t Top \\t Position\"\n",
    "    np.savetxt(dat_name,measurements[:][sorted_index],header=toptxt) # This sorts your data before saving too!\n",
    "except:\n",
    "    print(\"No datapoints selected yet.  Use the controls to save neck radii first.\")\n",
    "    "
   ]
  },
  {
   "cell_type": "markdown",
   "metadata": {},
   "source": [
    "# Automating the process\n",
    "\n",
    "Now, we can also use Python to do some of our dirty work here.  To start, we'll need to `threshold` the image: any pixels darker than the threshold are turned black, and any brighter are turned white.  In this case, we invert this, but the idea stands.  This eliminates \"fuzzy\" edges, but it also loses some nuance in decision making.\n",
    "\n",
    "The code snippet below will let you see what changing the thresholding value does to the drop image.  The value you set with the slider will be used throughout the data.\n",
    "\n",
    "**Adjust the threshold value such that you have a solid outline for your drop for the entire set of frames**"
   ]
  },
  {
   "cell_type": "code",
   "execution_count": 9,
   "metadata": {},
   "outputs": [
    {
     "data": {
      "application/vnd.jupyter.widget-view+json": {
       "model_id": "65f6d7a24c5e42c7b1ba0906a155f8b7",
       "version_major": 2,
       "version_minor": 0
      },
      "text/plain": [
       "interactive(children=(IntSlider(value=40, description='t_val', max=255), IntSlider(value=0, description='frm',…"
      ]
     },
     "metadata": {},
     "output_type": "display_data"
    },
    {
     "data": {
      "application/vnd.jupyter.widget-view+json": {
       "model_id": "53ad1d8d088a4e16a61e2a48bb9ee0d9",
       "version_major": 2,
       "version_minor": 0
      },
      "text/html": [
       "\n",
       "            <div style=\"display: inline-block;\">\n",
       "                <div class=\"jupyter-widgets widget-label\" style=\"text-align: center;\">\n",
       "                    Figure\n",
       "                </div>\n",
       "                <img src='data:image/png;base64,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' width=960.0/>\n",
       "            </div>\n",
       "        "
      ],
      "text/plain": [
       "Canvas(toolbar=Toolbar(toolitems=[('Home', 'Reset original view', 'home', 'home'), ('Back', 'Back to previous …"
      ]
     },
     "metadata": {},
     "output_type": "display_data"
    }
   ],
   "source": [
    "from ipywidgets import interact,fixed,interactive\n",
    "\n",
    "# We'll only initialize these variables if they don't already exist\n",
    "if not \"grey_threshold\" in globals():\n",
    "    grey_threshold = 40\n",
    "if not \"current_frame\" in globals():\n",
    "    current_frame = 0\n",
    "\n",
    "plt.ion()\n",
    "fig,ax = plt.subplots(figsize = (8,2),dpi=120)\n",
    "thresh_img = ax.imshow(img_list[0],cmap='gray')\n",
    "\n",
    "def try_threshold(t_val=40,frm=0):\n",
    "    global grey_threshold\n",
    "    grey_threshold = t_val\n",
    "    ret,thresh = cv2.threshold(img_list[frm],t_val,255,cv2.THRESH_BINARY_INV)\n",
    "    thresh_img.set_data(thresh)\n",
    "\n",
    "def get_child_widget(parent,childname):\n",
    "    results = [t for t in parent.children if getattr(t, 'description', None) == childname]\n",
    "    return results[0]     \n",
    "\n",
    "def get_child_widget_value(parent,childname): # Function not used currently\n",
    "    results = [t.value for t in parent.children if getattr(t, 'description', None) == childname]\n",
    "    return results[0] \n",
    "\n",
    "def update_threshold(change):\n",
    "    global grey_threshold\n",
    "    grey_threshold = change['new']\n",
    "    log.debug(\"threshold set to {}\".format(change['new']))\n",
    "    \n",
    "def update_frame(change):\n",
    "    global current_frame\n",
    "    current_frame = change['new']\n",
    "    log.debug(\"current frame set to {}\".format(change['new']))\n",
    "\n",
    "threshold_widget = interactive(try_threshold, t_val=(0,255),frm=(0,vidlen))\n",
    "display(threshold_widget)\n",
    "\n",
    "get_child_widget(threshold_widget,'t_val').observe(update_threshold, names='value')\n",
    "get_child_widget(threshold_widget,'frm').observe(update_frame, names='value')"
   ]
  },
  {
   "cell_type": "markdown",
   "metadata": {},
   "source": [
    "To find the width of our drop, we'll look for the top and bottom white pixels in each column.  This conviniently ignores illumination highlights on the drop that would otherwise cause trouble.\n",
    "\n",
    "One major issue is that the leading edge of the drop will be smaller than the drop's neck for quite a while into a video.  To do this, the algorithm takes the minimum it finds and looks at the points to the left and right of it.  If one of those points doesn't contain any white pixels, it indicates that we're at the edge of the drop.  The function then drops that point from its dataset and repeats until it finds a minimum that isn't at an edge.  \n",
    "\n",
    "**Points at the extremes of the image are also rejected, so beware this behavior if your neck is on the edge of the screen.**\n",
    "\n",
    "Finally, the function starts at the leftmost point with the minimum radius and searches to the right until the drop widens.  It then returns a neck position that's in the middle of those points.  **This last part is not robust, it jitters a lot**\n",
    "\n",
    "The cell below just defines our function, the one after that actually searches our video."
   ]
  },
  {
   "cell_type": "code",
   "execution_count": 10,
   "metadata": {},
   "outputs": [
    {
     "name": "stdout",
     "output_type": "stream",
     "text": [
      "Function created\n"
     ]
    }
   ],
   "source": [
    "def findmin(data):\n",
    "    current_data = data\n",
    "    running = True\n",
    "    while running:\n",
    "        current_min = np.min(current_data)\n",
    "        current_min_pos = np.argmax(current_data == current_min)#this finds the first point that meets the criteria\n",
    "        log.debug(current_min_pos)\n",
    "        if(current_min_pos >= len(current_data)-1):\n",
    "            current_data = np.delete(current_data,current_min_pos)\n",
    "        elif(current_data[current_min_pos-1]==ydim or current_data[current_min_pos+1]==ydim):\n",
    "            current_data = np.delete(current_data,current_min_pos)\n",
    "        else:\n",
    "            running=False\n",
    "    width=1\n",
    "    while(current_data[current_min_pos+width] == current_data[current_min_pos]):\n",
    "        width +=1\n",
    "    return(current_min_pos + width//2)\n",
    "print(\"Function created\")"
   ]
  },
  {
   "cell_type": "markdown",
   "metadata": {},
   "source": [
    "The next cell loops through our video frame by frame to find the top and bottom pixels of the drop in each column, and then find the smallest neck position.  It then overlays its estimate of the smallest neck position on top of the thresholded image."
   ]
  },
  {
   "cell_type": "code",
   "execution_count": 18,
   "metadata": {
    "scrolled": true
   },
   "outputs": [
    {
     "data": {
      "application/vnd.jupyter.widget-view+json": {
       "model_id": "26a6ea5fe958414285150b0a9ce269ce",
       "version_major": 2,
       "version_minor": 0
      },
      "text/plain": [
       "IntProgress(value=0, description='Progress', max=125)"
      ]
     },
     "metadata": {},
     "output_type": "display_data"
    },
    {
     "name": "stderr",
     "output_type": "stream",
     "text": [
      "/var/folders/rl/tl4qtvj57b566bjy5j9py4xh0000gp/T/ipykernel_71748/34703653.py:15: RuntimeWarning: More than 20 figures have been opened. Figures created through the pyplot interface (`matplotlib.pyplot.figure`) are retained until explicitly closed and may consume too much memory. (To control this warning, see the rcParam `figure.max_open_warning`).\n",
      "  fig,ax = plt.subplots(figsize = (10,4),dpi=120)\n"
     ]
    },
    {
     "name": "stdout",
     "output_type": "stream",
     "text": [
      "Finished!\n"
     ]
    }
   ],
   "source": [
    "neckdata = np.zeros((vidlen,xdim,3))\n",
    "data_to_save = np.zeros((vidlen,5))\n",
    "frames = [] \n",
    "progress = widgets.IntProgress(value=0, min=0,max=vidlen,description=\"Progress\")\n",
    "display(progress)\n",
    "\n",
    "plt.ioff() # This keeps matplotlib from showing tons of extra figures.\n",
    "for frame_val in range(0,vidlen):\n",
    "    ret,thresh = cv2.threshold(img_list[frame_val],grey_threshold,255,cv2.THRESH_BINARY_INV)\n",
    "    for i in range(0,xdim):\n",
    "        neckdata[frame_val][i][0] = np.argmax(thresh[:,i]==255)\n",
    "        neckdata[frame_val][i][1] = ydim - np.argmax(thresh[:,i][::-1]==255)\n",
    "        neckdata[frame_val][i][2] = neckdata[frame_val][i][1]-neckdata[frame_val][i][0]\n",
    "    \n",
    "    fig,ax = plt.subplots(figsize = (10,4),dpi=120)\n",
    "    ax.imshow(thresh,origin='upper', animated=True,cmap='gray');\n",
    "    plt.axis([0, xdim , 0, ydim])\n",
    "    \n",
    "    frame_min_pos = findmin(neckdata[frame_val][:,2])\n",
    "    ax.vlines(frame_min_pos,neckdata[frame_val][frame_min_pos][0],neckdata[frame_val][frame_min_pos][1],color='red')\n",
    "    data_to_save[frame_val] = [frame_val,neckdata[frame_val][frame_min_pos][0],neckdata[frame_val][frame_min_pos][1],neckdata[frame_val][frame_min_pos][1] - neckdata[frame_val][frame_min_pos][0],frame_min_pos]\n",
    "    frames.append(fig)\n",
    "    progress.value +=1\n",
    "print(\"Finished!\")"
   ]
  },
  {
   "cell_type": "markdown",
   "metadata": {},
   "source": [
    "Now you can scroll through the video frames to make sure nothing crazy is happening by using the widget below.  It'll take a moment to start so be patient."
   ]
  },
  {
   "cell_type": "code",
   "execution_count": 19,
   "metadata": {},
   "outputs": [
    {
     "data": {
      "application/vnd.jupyter.widget-view+json": {
       "model_id": "0d5d9bfa57a743b49be0d3200ed4d2d5",
       "version_major": 2,
       "version_minor": 0
      },
      "text/plain": [
       "Output()"
      ]
     },
     "metadata": {},
     "output_type": "display_data"
    },
    {
     "data": {
      "application/vnd.jupyter.widget-view+json": {
       "model_id": "b434f863098c4fc29051902bc55d0b19",
       "version_major": 2,
       "version_minor": 0
      },
      "text/plain": [
       "IntSlider(value=0, continuous_update=False, max=124)"
      ]
     },
     "metadata": {},
     "output_type": "display_data"
    }
   ],
   "source": [
    "from IPython.display import clear_output\n",
    "fig, ax = plt.subplots();\n",
    "disp = widgets.Output();\n",
    "\n",
    "def showframe(frm=0):\n",
    "    global frames\n",
    "    disp.clear_output(wait=True);\n",
    "    with disp:\n",
    "        display(frames[frm]);\n",
    "\n",
    "frame_slider2 = widgets.IntSlider(min=0,max=len(frames)-1,value=0,continuous_update=False) #I got lazy with names, so sue me.\n",
    "def frame_change2(change): \n",
    "    showframe(change['new']);\n",
    "    \n",
    "frame_slider2.observe(frame_change2, names='value');\n",
    "showframe(0);\n",
    "display(disp);\n",
    "display(frame_slider2);\n",
    "plt.close('all')"
   ]
  },
  {
   "cell_type": "markdown",
   "metadata": {},
   "source": [
    "Finally, this plots our data and outputs the positions to a handy .tsv file."
   ]
  },
  {
   "cell_type": "code",
   "execution_count": 26,
   "metadata": {},
   "outputs": [
    {
     "data": {
      "application/vnd.jupyter.widget-view+json": {
       "model_id": "7075bbdf9b524fd291db3d59eec6b343",
       "version_major": 2,
       "version_minor": 0
      },
      "text/html": [
       "\n",
       "            <div style=\"display: inline-block;\">\n",
       "                <div class=\"jupyter-widgets widget-label\" style=\"text-align: center;\">\n",
       "                    Figure\n",
       "                </div>\n",
       "                <img src='data:image/png;base64,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' width=640.0/>\n",
       "            </div>\n",
       "        "
      ],
      "text/plain": [
       "Canvas(toolbar=Toolbar(toolitems=[('Home', 'Reset original view', 'home', 'home'), ('Back', 'Back to previous …"
      ]
     },
     "metadata": {},
     "output_type": "display_data"
    }
   ],
   "source": [
    "import time\n",
    "plt.ion()\n",
    "fig, (ax,ay) = plt.subplots(1,2)\n",
    "scaletype = \"linear\"\n",
    "\n",
    "ax.set_yscale(scaletype)\n",
    "ax.set_xscale(scaletype)\n",
    "\n",
    "ax.plot(data_to_save[::,4],label = \"Position\",color=\"b\") #This plots the 5th column of the data_to_save array\n",
    "ay.plot(data_to_save[::,3],label = \"Radius\")\n",
    "\n",
    "ax.set_title(\"Neck position\")\n",
    "ay.set_title(\"Neck size\")\n",
    "\n",
    "\n",
    "ax.set_ylabel(\"Pixels\")\n",
    "ax.set_xlabel(\"Frame\")\n",
    "\n",
    "ay.set_ylabel(\"Pixels\")\n",
    "ay.set_xlabel(\"Frame\")\n",
    "\n",
    "plt.tight_layout()\n",
    "ax.legend()\n",
    "ay.legend()\n",
    "\n",
    "\n",
    "dat_name = fname[:-1*fname.find(\".\")] + \"_auto_\" + str(int(time.time())) + \".tsv\"# this cuts off the current suffix and adds the time\n",
    "toptxt = \"Video File: {}\\n\".format(fname)\n",
    "toptxt += \"Grey_threshold value: {}\\n\".format(grey_threshold)\n",
    "toptxt += \"Frame \\t Radius \\t Bottom \\t Top \\t Position\"\n",
    "np.savetxt(dat_name,data_to_save,header=toptxt) "
   ]
  },
  {
   "cell_type": "markdown",
   "metadata": {},
   "source": [
    "----\n",
    "\n",
    "That was the end of the main code, the rest is for messing around or debugging.\n",
    "\n",
    "\n",
    "Just for fun, we can look at the evolution of the radius along the drop over time."
   ]
  },
  {
   "cell_type": "code",
   "execution_count": 32,
   "metadata": {
    "scrolled": false
   },
   "outputs": [
    {
     "data": {
      "application/vnd.jupyter.widget-view+json": {
       "model_id": "bdadb9819e8c488da7f3d792d3233d73",
       "version_major": 2,
       "version_minor": 0
      },
      "text/plain": [
       "Output()"
      ]
     },
     "metadata": {},
     "output_type": "display_data"
    },
    {
     "data": {
      "application/vnd.jupyter.widget-view+json": {
       "model_id": "fed3d411ca7b4c69bef64ca4ce7a5b4b",
       "version_major": 2,
       "version_minor": 0
      },
      "text/plain": [
       "IntSlider(value=0, continuous_update=False, max=124)"
      ]
     },
     "metadata": {},
     "output_type": "display_data"
    },
    {
     "data": {
      "application/vnd.jupyter.widget-view+json": {
       "model_id": "68125a36140b47919eb7979fe189fff2",
       "version_major": 2,
       "version_minor": 0
      },
      "text/html": [
       "\n",
       "            <div style=\"display: inline-block;\">\n",
       "                <div class=\"jupyter-widgets widget-label\" style=\"text-align: center;\">\n",
       "                    Figure\n",
       "                </div>\n",
       "                <img src='data:image/png;base64,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' width=640.0/>\n",
       "            </div>\n",
       "        "
      ],
      "text/plain": [
       "Canvas(toolbar=Toolbar(toolitems=[('Home', 'Reset original view', 'home', 'home'), ('Back', 'Back to previous …"
      ]
     },
     "metadata": {},
     "output_type": "display_data"
    }
   ],
   "source": [
    "plt.ion()\n",
    "from IPython.display import clear_output\n",
    "fig, ax = plt.subplots();\n",
    "disp2 = widgets.Output();\n",
    "\n",
    "def showframe2(frm=0):\n",
    "    global neckdata\n",
    "    disp2.clear_output(wait=True);\n",
    "    with disp2:\n",
    "        plt.gca().clear()\n",
    "        ax.plot(neckdata[frm][:,2]);\n",
    "\n",
    "frame_slider3 = widgets.IntSlider(min=0,max=len(frames)-1,value=0,continuous_update=False) #I got lazy with names, so sue me.\n",
    "def frame_change3(change): \n",
    "    showframe2(change['new']);\n",
    "\n",
    "    \n",
    "frame_slider3.observe(frame_change3, names='value');\n",
    "showframe2(0);\n",
    "display(disp2);\n",
    "display(frame_slider3);"
   ]
  },
  {
   "cell_type": "markdown",
   "metadata": {},
   "source": [
    "This will load the last file you saved from running an earlier cell and verify that its behaving properly."
   ]
  },
  {
   "cell_type": "code",
   "execution_count": 33,
   "metadata": {},
   "outputs": [
    {
     "data": {
      "text/plain": [
       "<matplotlib.legend.Legend at 0x7ff77ed570d0>"
      ]
     },
     "execution_count": 33,
     "metadata": {},
     "output_type": "execute_result"
    },
    {
     "data": {
      "application/vnd.jupyter.widget-view+json": {
       "model_id": "36a21015f621447e807b47b12210deb2",
       "version_major": 2,
       "version_minor": 0
      },
      "text/html": [
       "\n",
       "            <div style=\"display: inline-block;\">\n",
       "                <div class=\"jupyter-widgets widget-label\" style=\"text-align: center;\">\n",
       "                    Figure\n",
       "                </div>\n",
       "                <img src='data:image/png;base64,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' width=640.0/>\n",
       "            </div>\n",
       "        "
      ],
      "text/plain": [
       "Canvas(toolbar=Toolbar(toolitems=[('Home', 'Reset original view', 'home', 'home'), ('Back', 'Back to previous …"
      ]
     },
     "metadata": {},
     "output_type": "display_data"
    }
   ],
   "source": [
    "lframe,l_top,l_bot,l_pos,l_wid = np.loadtxt(dat_name,unpack=True)\n",
    "plt.ion()\n",
    "fig, (ax,ay) = plt.subplots(1,2)\n",
    "scaletype = \"linear\"\n",
    "\n",
    "ax.set_yscale(scaletype)\n",
    "ax.set_xscale(scaletype)\n",
    "\n",
    "ax.plot(l_pos,label = \"Position\",color=\"b\") #This plots the 5th column of the data_to_save array\n",
    "ay.plot(l_wid,label = \"Radius\")\n",
    "\n",
    "ax.set_title(\"Neck position from file\")\n",
    "ay.set_title(\"Neck size from file\")\n",
    "\n",
    "\n",
    "ax.set_ylabel(\"Pixels\")\n",
    "ax.set_xlabel(\"Frame\")\n",
    "\n",
    "ay.set_ylabel(\"Pixels\")\n",
    "ay.set_xlabel(\"Frame\")\n",
    "\n",
    "plt.tight_layout()\n",
    "ax.legend()\n",
    "ay.legend()"
   ]
  },
  {
   "cell_type": "markdown",
   "metadata": {},
   "source": [
    "----"
   ]
  }
 ],
 "metadata": {
  "kernelspec": {
   "display_name": "Python [conda env:DropPinchoff]",
   "language": "python",
   "name": "conda-env-DropPinchoff-py"
  },
  "language_info": {
   "codemirror_mode": {
    "name": "ipython",
    "version": 3
   },
   "file_extension": ".py",
   "mimetype": "text/x-python",
   "name": "python",
   "nbconvert_exporter": "python",
   "pygments_lexer": "ipython3",
   "version": "3.8.12"
  }
 },
 "nbformat": 4,
 "nbformat_minor": 2
}
